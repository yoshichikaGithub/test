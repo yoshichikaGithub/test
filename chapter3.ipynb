{
  "nbformat": 4,
  "nbformat_minor": 0,
  "metadata": {
    "colab": {
      "name": "Untitled6.ipynb",
      "version": "0.3.2",
      "provenance": [],
      "collapsed_sections": [],
      "include_colab_link": true
    },
    "kernelspec": {
      "name": "python3",
      "display_name": "Python 3"
    }
  },
  "cells": [
    {
      "cell_type": "markdown",
      "metadata": {
        "id": "view-in-github",
        "colab_type": "text"
      },
      "source": [
        "<a href=\"https://colab.research.google.com/github/HisakaKoji/test/blob/master/chapter3.ipynb\" target=\"_parent\"><img src=\"https://colab.research.google.com/assets/colab-badge.svg\" alt=\"Open In Colab\"/></a>"
      ]
    },
    {
      "cell_type": "code",
      "metadata": {
        "id": "DTAJl-SVjb8o",
        "colab_type": "code",
        "colab": {}
      },
      "source": [
        "#@title ３章　ニューラルネットワーク\n",
        "def step_function(x):\n",
        "  if x > 0:\n",
        "    return 1\n",
        "  else:\n",
        "    return 0\n"
      ],
      "execution_count": 0,
      "outputs": []
    },
    {
      "cell_type": "code",
      "metadata": {
        "id": "pHxlv5bUj-FK",
        "colab_type": "code",
        "colab": {}
      },
      "source": [
        "def step_function(x):\n",
        "  y = x > 0\n",
        "  return y.astype(np.init)"
      ],
      "execution_count": 0,
      "outputs": []
    },
    {
      "cell_type": "code",
      "metadata": {
        "id": "T8QFm8KTkG7O",
        "colab_type": "code",
        "outputId": "afca182e-6c97-40ee-8bd6-5ac2ffef9b24",
        "colab": {
          "base_uri": "https://localhost:8080/",
          "height": 34
        }
      },
      "source": [
        "import numpy as np\n",
        "x = np.array([-1.0,1.0,2.0])\n",
        "x"
      ],
      "execution_count": 0,
      "outputs": [
        {
          "output_type": "execute_result",
          "data": {
            "text/plain": [
              "array([-1.,  1.,  2.])"
            ]
          },
          "metadata": {
            "tags": []
          },
          "execution_count": 3
        }
      ]
    },
    {
      "cell_type": "code",
      "metadata": {
        "id": "HG9kCffUkO0p",
        "colab_type": "code",
        "colab": {}
      },
      "source": [
        "y = x > 0"
      ],
      "execution_count": 0,
      "outputs": []
    },
    {
      "cell_type": "code",
      "metadata": {
        "id": "dvThBYXzkRaD",
        "colab_type": "code",
        "outputId": "cdb91529-0f1f-48cf-8b35-62bff75beec1",
        "colab": {
          "base_uri": "https://localhost:8080/",
          "height": 34
        }
      },
      "source": [
        "y"
      ],
      "execution_count": 0,
      "outputs": [
        {
          "output_type": "execute_result",
          "data": {
            "text/plain": [
              "array([False,  True,  True])"
            ]
          },
          "metadata": {
            "tags": []
          },
          "execution_count": 5
        }
      ]
    },
    {
      "cell_type": "code",
      "metadata": {
        "id": "5j1tKj6ykZTU",
        "colab_type": "code",
        "colab": {}
      },
      "source": [
        "y = y.astype(np.int)"
      ],
      "execution_count": 0,
      "outputs": []
    },
    {
      "cell_type": "code",
      "metadata": {
        "id": "ao9TQuT4ke1G",
        "colab_type": "code",
        "outputId": "c618923f-c2fc-45e3-f0e0-03e9833d78e5",
        "colab": {
          "base_uri": "https://localhost:8080/",
          "height": 34
        }
      },
      "source": [
        "y"
      ],
      "execution_count": 0,
      "outputs": [
        {
          "output_type": "execute_result",
          "data": {
            "text/plain": [
              "array([0, 1, 1])"
            ]
          },
          "metadata": {
            "tags": []
          },
          "execution_count": 8
        }
      ]
    },
    {
      "cell_type": "code",
      "metadata": {
        "id": "VHlusH6kkgh8",
        "colab_type": "code",
        "outputId": "61aea9d5-fc26-4aac-b02f-9bb6dde000ff",
        "colab": {
          "base_uri": "https://localhost:8080/",
          "height": 269
        }
      },
      "source": [
        "#@title 3.2.3 ステップ関数のグラフ\n",
        "import numpy as np\n",
        "import matplotlib.pylab as plt\n",
        "\n",
        "def step_function(x):\n",
        "  return np.array(x>0,dtype=np.int)\n",
        "\n",
        "x = np.arange(-5.0,5.0,0.1)\n",
        "y = step_function(x)\n",
        "plt.plot(x,y)\n",
        "plt.ylim(-0.1,1.1)\n",
        "plt.show()"
      ],
      "execution_count": 0,
      "outputs": [
        {
          "output_type": "display_data",
          "data": {
            "image/png": "[encoded data removed]",
            "text/plain": [
              "<Figure size 432x288 with 1 Axes>"
            ]
          },
          "metadata": {
            "tags": []
          }
        }
      ]
    },
    {
      "cell_type": "code",
      "metadata": {
        "id": "FnFxv_UulLrD",
        "colab_type": "code",
        "outputId": "c3b0d96a-c89b-4951-ec78-4d3689b58935",
        "colab": {
          "base_uri": "https://localhost:8080/",
          "height": 34
        }
      },
      "source": [
        "#@title 3.2.4 シグモイド関数の実装\n",
        "def sigmoid(x):\n",
        "  return 1/ (1 + np.exp(-x))\n",
        "\n",
        "x = np.array([-1.0,1.0,2.0])\n",
        "sigmoid(x)"
      ],
      "execution_count": 0,
      "outputs": [
        {
          "output_type": "execute_result",
          "data": {
            "text/plain": [
              "array([0.26894142, 0.73105858, 0.88079708])"
            ]
          },
          "metadata": {
            "tags": []
          },
          "execution_count": 10
        }
      ]
    },
    {
      "cell_type": "code",
      "metadata": {
        "id": "H79aaHQpmChI",
        "colab_type": "code",
        "outputId": "24e5e528-02a0-435b-a9ca-0a36cb41894d",
        "colab": {
          "base_uri": "https://localhost:8080/",
          "height": 34
        }
      },
      "source": [
        "t =np.array([1.0,2.0,3.0])\n",
        "1.0+t"
      ],
      "execution_count": 0,
      "outputs": [
        {
          "output_type": "execute_result",
          "data": {
            "text/plain": [
              "array([2., 3., 4.])"
            ]
          },
          "metadata": {
            "tags": []
          },
          "execution_count": 11
        }
      ]
    },
    {
      "cell_type": "code",
      "metadata": {
        "id": "eV1rvaB-mJno",
        "colab_type": "code",
        "outputId": "1df21347-4a21-4589-c9a6-a81eb1333ed2",
        "colab": {
          "base_uri": "https://localhost:8080/",
          "height": 34
        }
      },
      "source": [
        "1.0/t"
      ],
      "execution_count": 0,
      "outputs": [
        {
          "output_type": "execute_result",
          "data": {
            "text/plain": [
              "array([1.        , 0.5       , 0.33333333])"
            ]
          },
          "metadata": {
            "tags": []
          },
          "execution_count": 12
        }
      ]
    },
    {
      "cell_type": "code",
      "metadata": {
        "id": "DPvTUA5MmOgw",
        "colab_type": "code",
        "colab": {}
      },
      "source": [
        "x = np.arange(-5.0, 5.0 , 0.1)"
      ],
      "execution_count": 0,
      "outputs": []
    },
    {
      "cell_type": "code",
      "metadata": {
        "id": "pnHWGkrInRFA",
        "colab_type": "code",
        "colab": {}
      },
      "source": [
        ""
      ],
      "execution_count": 0,
      "outputs": []
    },
    {
      "cell_type": "code",
      "metadata": {
        "id": "SXEvcbSqmVjZ",
        "colab_type": "code",
        "colab": {}
      },
      "source": [
        "\n",
        "y = sigmoid(x)"
      ],
      "execution_count": 0,
      "outputs": []
    },
    {
      "cell_type": "code",
      "metadata": {
        "id": "6w6ecYbgmX3C",
        "colab_type": "code",
        "outputId": "c060ca6e-687c-417d-aea0-ed8d0c653dff",
        "colab": {
          "base_uri": "https://localhost:8080/",
          "height": 269
        }
      },
      "source": [
        "plt.plot(x,y)\n",
        "plt.ylim(-0.1 , 1.1)\n",
        "plt.show()"
      ],
      "execution_count": 0,
      "outputs": [
        {
          "output_type": "display_data",
          "data": {
            "image/png": "[encoded data removed]",
            "text/plain": [
              "<Figure size 432x288 with 1 Axes>"
            ]
          },
          "metadata": {
            "tags": []
          }
        }
      ]
    },
    {
      "cell_type": "code",
      "metadata": {
        "id": "eiNUqoxWnDse",
        "colab_type": "code",
        "colab": {}
      },
      "source": [
        "#@title 3.2.7 ReLu関数\n",
        "def relu(x):\n",
        "  return np.maximum(0,x)"
      ],
      "execution_count": 0,
      "outputs": []
    },
    {
      "cell_type": "code",
      "metadata": {
        "id": "XnZP6pyPnSBm",
        "colab_type": "code",
        "colab": {}
      },
      "source": [
        "x = np.arange(-5.0, 5.0 , 0.1)"
      ],
      "execution_count": 0,
      "outputs": []
    },
    {
      "cell_type": "code",
      "metadata": {
        "id": "uwhahZDpnThG",
        "colab_type": "code",
        "outputId": "55e6b3ae-f7dd-4581-a0e0-64b6321c8cde",
        "colab": {
          "base_uri": "https://localhost:8080/",
          "height": 269
        }
      },
      "source": [
        "y = relu(x)\n",
        "plt.plot(x,y)\n",
        "plt.ylim(-0.1 , 5)\n",
        "plt.show()\n"
      ],
      "execution_count": 0,
      "outputs": [
        {
          "output_type": "display_data",
          "data": {
            "image/png": "[encoded data removed]",
            "text/plain": [
              "<Figure size 432x288 with 1 Axes>"
            ]
          },
          "metadata": {
            "tags": []
          }
        }
      ]
    },
    {
      "cell_type": "code",
      "metadata": {
        "id": "ojmouXqMni0p",
        "colab_type": "code",
        "outputId": "b6937f74-6c73-41af-a9f5-e8bd1000bb6a",
        "colab": {
          "base_uri": "https://localhost:8080/",
          "height": 52
        }
      },
      "source": [
        "#@title 3.3 多次元配列の計算\n",
        "\n",
        "import numpy as np\n",
        "A = np.array([1,2,3,4])\n",
        "print(A)\n",
        "np.ndim(A)\n",
        "A.shape\n",
        "A.shape[0]\n"
      ],
      "execution_count": 0,
      "outputs": [
        {
          "output_type": "stream",
          "text": [
            "[1 2 3 4]\n"
          ],
          "name": "stdout"
        },
        {
          "output_type": "execute_result",
          "data": {
            "text/plain": [
              "4"
            ]
          },
          "metadata": {
            "tags": []
          },
          "execution_count": 26
        }
      ]
    },
    {
      "cell_type": "code",
      "metadata": {
        "id": "L-HG_JMKnxpM",
        "colab_type": "code",
        "outputId": "9de5cf90-cad4-429d-a138-d3de7c26e682",
        "colab": {
          "base_uri": "https://localhost:8080/",
          "height": 70
        }
      },
      "source": [
        "B = np.array([[1,2],[3,4],[5,6]])\n",
        "print(B)"
      ],
      "execution_count": 0,
      "outputs": [
        {
          "output_type": "stream",
          "text": [
            "[[1 2]\n",
            " [3 4]\n",
            " [5 6]]\n"
          ],
          "name": "stdout"
        }
      ]
    },
    {
      "cell_type": "code",
      "metadata": {
        "id": "46fqJ9ALn92n",
        "colab_type": "code",
        "outputId": "45af092b-122a-4a87-910b-dfc40ecf5a8d",
        "colab": {
          "base_uri": "https://localhost:8080/",
          "height": 34
        }
      },
      "source": [
        "np.ndim(B)"
      ],
      "execution_count": 0,
      "outputs": [
        {
          "output_type": "execute_result",
          "data": {
            "text/plain": [
              "2"
            ]
          },
          "metadata": {
            "tags": []
          },
          "execution_count": 29
        }
      ]
    },
    {
      "cell_type": "code",
      "metadata": {
        "id": "l9WCxX8GoJOc",
        "colab_type": "code",
        "outputId": "e0aef669-7e37-49ef-9f18-cddd906dc89b",
        "colab": {
          "base_uri": "https://localhost:8080/",
          "height": 34
        }
      },
      "source": [
        "B.shape"
      ],
      "execution_count": 0,
      "outputs": [
        {
          "output_type": "execute_result",
          "data": {
            "text/plain": [
              "(3, 2)"
            ]
          },
          "metadata": {
            "tags": []
          },
          "execution_count": 30
        }
      ]
    },
    {
      "cell_type": "code",
      "metadata": {
        "id": "u30fSGxEoLf-",
        "colab_type": "code",
        "outputId": "1a3e7165-d56e-4902-be07-355831a66863",
        "colab": {
          "base_uri": "https://localhost:8080/",
          "height": 34
        }
      },
      "source": [
        "#@title 3.3.2　行列の積\n",
        "A = np.array([[1,2],[3,4]])\n",
        "A.shape"
      ],
      "execution_count": 0,
      "outputs": [
        {
          "output_type": "execute_result",
          "data": {
            "text/plain": [
              "(2, 2)"
            ]
          },
          "metadata": {
            "tags": []
          },
          "execution_count": 31
        }
      ]
    },
    {
      "cell_type": "code",
      "metadata": {
        "id": "zJ0BubZwoU9W",
        "colab_type": "code",
        "outputId": "0935ea83-f7b9-4079-ecc8-973ac783cdcc",
        "colab": {
          "base_uri": "https://localhost:8080/",
          "height": 34
        }
      },
      "source": [
        "B = np.array([[5,6],[7,8]])\n",
        "B.shape"
      ],
      "execution_count": 0,
      "outputs": [
        {
          "output_type": "execute_result",
          "data": {
            "text/plain": [
              "(2, 2)"
            ]
          },
          "metadata": {
            "tags": []
          },
          "execution_count": 32
        }
      ]
    },
    {
      "cell_type": "code",
      "metadata": {
        "id": "SLme3-MOobCw",
        "colab_type": "code",
        "outputId": "7e3ae6da-27b5-459d-ff67-3b6b501468d0",
        "colab": {
          "base_uri": "https://localhost:8080/",
          "height": 52
        }
      },
      "source": [
        "np.dot(A,B)"
      ],
      "execution_count": 0,
      "outputs": [
        {
          "output_type": "execute_result",
          "data": {
            "text/plain": [
              "array([[19, 22],\n",
              "       [43, 50]])"
            ]
          },
          "metadata": {
            "tags": []
          },
          "execution_count": 33
        }
      ]
    },
    {
      "cell_type": "code",
      "metadata": {
        "id": "865wKRsRogI5",
        "colab_type": "code",
        "outputId": "315de5b9-d541-4b10-8b4d-d8043064fbc9",
        "colab": {
          "base_uri": "https://localhost:8080/",
          "height": 34
        }
      },
      "source": [
        "A = np.array([[1,2,3],[4,5,6]])\n",
        "A.shape"
      ],
      "execution_count": 0,
      "outputs": [
        {
          "output_type": "execute_result",
          "data": {
            "text/plain": [
              "(2, 3)"
            ]
          },
          "metadata": {
            "tags": []
          },
          "execution_count": 34
        }
      ]
    },
    {
      "cell_type": "code",
      "metadata": {
        "id": "JNCCzQhioyRO",
        "colab_type": "code",
        "colab": {}
      },
      "source": [
        "B = np.array([[1,2],[3,4],[5,6]])"
      ],
      "execution_count": 0,
      "outputs": []
    },
    {
      "cell_type": "code",
      "metadata": {
        "id": "ltVXdF3bo4dX",
        "colab_type": "code",
        "colab": {}
      },
      "source": [
        "B.shape"
      ],
      "execution_count": 0,
      "outputs": []
    },
    {
      "cell_type": "code",
      "metadata": {
        "id": "68eaMM9-o6CG",
        "colab_type": "code",
        "outputId": "eb52984c-8299-4869-89f0-e6c82fd71ac4",
        "colab": {
          "base_uri": "https://localhost:8080/",
          "height": 52
        }
      },
      "source": [
        "np.dot(A,B)"
      ],
      "execution_count": 0,
      "outputs": [
        {
          "output_type": "execute_result",
          "data": {
            "text/plain": [
              "array([[22, 28],\n",
              "       [49, 64]])"
            ]
          },
          "metadata": {
            "tags": []
          },
          "execution_count": 36
        }
      ]
    },
    {
      "cell_type": "code",
      "metadata": {
        "id": "KaxLH7Iro8X1",
        "colab_type": "code",
        "colab": {}
      },
      "source": [
        "C =np.array([[1,2],[3,4]])"
      ],
      "execution_count": 0,
      "outputs": []
    },
    {
      "cell_type": "code",
      "metadata": {
        "id": "KsijzhEkpGCp",
        "colab_type": "code",
        "outputId": "7b5bac30-7bca-4591-a942-21db53d66527",
        "colab": {
          "base_uri": "https://localhost:8080/",
          "height": 34
        }
      },
      "source": [
        "C.shape"
      ],
      "execution_count": 0,
      "outputs": [
        {
          "output_type": "execute_result",
          "data": {
            "text/plain": [
              "(2, 2)"
            ]
          },
          "metadata": {
            "tags": []
          },
          "execution_count": 38
        }
      ]
    },
    {
      "cell_type": "code",
      "metadata": {
        "id": "SE1mnJXzpIMs",
        "colab_type": "code",
        "outputId": "33680548-d983-49f9-c66b-1da3d63a4a66",
        "colab": {
          "base_uri": "https://localhost:8080/",
          "height": 34
        }
      },
      "source": [
        "A.shape"
      ],
      "execution_count": 0,
      "outputs": [
        {
          "output_type": "execute_result",
          "data": {
            "text/plain": [
              "(2, 3)"
            ]
          },
          "metadata": {
            "tags": []
          },
          "execution_count": 39
        }
      ]
    },
    {
      "cell_type": "code",
      "metadata": {
        "id": "L1HSq-zTpKoS",
        "colab_type": "code",
        "outputId": "f8499faa-c140-412b-8aa5-4da583abff19",
        "colab": {
          "base_uri": "https://localhost:8080/",
          "height": 171
        }
      },
      "source": [
        "np.dot(A,C)"
      ],
      "execution_count": 0,
      "outputs": [
        {
          "output_type": "error",
          "ename": "ValueError",
          "evalue": "ignored",
          "traceback": [
            "\u001b[0;31m---------------------------------------------------------------------------\u001b[0m",
            "\u001b[0;31mValueError\u001b[0m                                Traceback (most recent call last)",
            "\u001b[0;32m<ipython-input-40-bef0a2d6fb5b>\u001b[0m in \u001b[0;36m<module>\u001b[0;34m()\u001b[0m\n\u001b[0;32m----> 1\u001b[0;31m \u001b[0mnp\u001b[0m\u001b[0;34m.\u001b[0m\u001b[0mdot\u001b[0m\u001b[0;34m(\u001b[0m\u001b[0mA\u001b[0m\u001b[0;34m,\u001b[0m\u001b[0mC\u001b[0m\u001b[0;34m)\u001b[0m\u001b[0;34m\u001b[0m\u001b[0;34m\u001b[0m\u001b[0m\n\u001b[0m",
            "\u001b[0;31mValueError\u001b[0m: shapes (2,3) and (2,2) not aligned: 3 (dim 1) != 2 (dim 0)"
          ]
        }
      ]
    },
    {
      "cell_type": "code",
      "metadata": {
        "id": "8AFDUEiMpSW7",
        "colab_type": "code",
        "outputId": "3d49fc31-7291-47a5-96b1-30e9489a7f6e",
        "colab": {
          "base_uri": "https://localhost:8080/",
          "height": 34
        }
      },
      "source": [
        "A = np.array([[1,2],[3,4],[5,6]])\n",
        "A.shape"
      ],
      "execution_count": 0,
      "outputs": [
        {
          "output_type": "execute_result",
          "data": {
            "text/plain": [
              "(3, 2)"
            ]
          },
          "metadata": {
            "tags": []
          },
          "execution_count": 41
        }
      ]
    },
    {
      "cell_type": "code",
      "metadata": {
        "id": "JKD0DmgepaVM",
        "colab_type": "code",
        "outputId": "829d944d-5c4a-473d-ee3e-7664a3460e9d",
        "colab": {
          "base_uri": "https://localhost:8080/",
          "height": 34
        }
      },
      "source": [
        "B = np.array([7,8])\n",
        "B.shape"
      ],
      "execution_count": 0,
      "outputs": [
        {
          "output_type": "execute_result",
          "data": {
            "text/plain": [
              "(2,)"
            ]
          },
          "metadata": {
            "tags": []
          },
          "execution_count": 43
        }
      ]
    },
    {
      "cell_type": "code",
      "metadata": {
        "id": "hO9Oh3eapgc6",
        "colab_type": "code",
        "outputId": "8411a0ae-fb53-4f7d-987b-356725796b86",
        "colab": {
          "base_uri": "https://localhost:8080/",
          "height": 34
        }
      },
      "source": [
        "np.dot(A,B)"
      ],
      "execution_count": 0,
      "outputs": [
        {
          "output_type": "execute_result",
          "data": {
            "text/plain": [
              "array([23, 53, 83])"
            ]
          },
          "metadata": {
            "tags": []
          },
          "execution_count": 44
        }
      ]
    },
    {
      "cell_type": "code",
      "metadata": {
        "id": "FlCXeSBGpjIu",
        "colab_type": "code",
        "outputId": "70d06b20-b821-415f-b7cc-50e4c901ba35",
        "colab": {
          "base_uri": "https://localhost:8080/",
          "height": 34
        }
      },
      "source": [
        "#@title 3.3.3 ニューラルネットワークの行列の積\n",
        "\n",
        "X = np.array([1,2])\n",
        "X.shape\n"
      ],
      "execution_count": 0,
      "outputs": [
        {
          "output_type": "execute_result",
          "data": {
            "text/plain": [
              "(2,)"
            ]
          },
          "metadata": {
            "tags": []
          },
          "execution_count": 45
        }
      ]
    },
    {
      "cell_type": "code",
      "metadata": {
        "id": "9Asr5EzLpuha",
        "colab_type": "code",
        "outputId": "5bd8633e-08ed-4f04-a039-aa68d3c1e6c2",
        "colab": {
          "base_uri": "https://localhost:8080/",
          "height": 52
        }
      },
      "source": [
        "W = np.array([[1,3,4],[2,4,6]])\n",
        "print(W)"
      ],
      "execution_count": 0,
      "outputs": [
        {
          "output_type": "stream",
          "text": [
            "[[1 3 4]\n",
            " [2 4 6]]\n"
          ],
          "name": "stdout"
        }
      ]
    },
    {
      "cell_type": "code",
      "metadata": {
        "id": "uj-pQEVap1Eq",
        "colab_type": "code",
        "outputId": "32aa3631-ad39-4ffd-c92e-146220ad07b6",
        "colab": {
          "base_uri": "https://localhost:8080/",
          "height": 34
        }
      },
      "source": [
        "W.shape"
      ],
      "execution_count": 0,
      "outputs": [
        {
          "output_type": "execute_result",
          "data": {
            "text/plain": [
              "(2, 3)"
            ]
          },
          "metadata": {
            "tags": []
          },
          "execution_count": 47
        }
      ]
    },
    {
      "cell_type": "code",
      "metadata": {
        "id": "WpKmxWzxp6Q5",
        "colab_type": "code",
        "outputId": "2875d683-2226-4698-f0c4-de18c93b7cc5",
        "colab": {
          "base_uri": "https://localhost:8080/",
          "height": 34
        }
      },
      "source": [
        "Y = np.dot(X,W)\n",
        "print(Y)"
      ],
      "execution_count": 0,
      "outputs": [
        {
          "output_type": "stream",
          "text": [
            "[ 5 11 16]\n"
          ],
          "name": "stdout"
        }
      ]
    },
    {
      "cell_type": "code",
      "metadata": {
        "id": "vhC-gGq9qEst",
        "colab_type": "code",
        "outputId": "43da3cdf-d423-4b11-dea0-17758fa9398a",
        "colab": {
          "base_uri": "https://localhost:8080/",
          "height": 34
        }
      },
      "source": [
        "#@title 3.4.2 各層における信号伝達の実装\n",
        "\n",
        "X = np.array([1.0,0.5])\n",
        "W1 = np.array([[0.1,0.3,0.5],[0.2,0.4,0.6]])\n",
        "B1 = np.array([0.1,0.2,0.3])\n",
        "\n",
        "print(W1.shape)\n",
        "\n"
      ],
      "execution_count": 0,
      "outputs": [
        {
          "output_type": "stream",
          "text": [
            "(2, 3)\n"
          ],
          "name": "stdout"
        }
      ]
    },
    {
      "cell_type": "code",
      "metadata": {
        "id": "6IqXrsK8qgxG",
        "colab_type": "code",
        "outputId": "3f5e6bfe-0df0-4129-af0f-f9c44b92bdbd",
        "colab": {
          "base_uri": "https://localhost:8080/",
          "height": 34
        }
      },
      "source": [
        "print(X.shape)"
      ],
      "execution_count": 0,
      "outputs": [
        {
          "output_type": "stream",
          "text": [
            "(2,)\n"
          ],
          "name": "stdout"
        }
      ]
    },
    {
      "cell_type": "code",
      "metadata": {
        "id": "5asPtW5hqjOv",
        "colab_type": "code",
        "outputId": "da014a4f-7604-431f-982e-fb127c57f55d",
        "colab": {
          "base_uri": "https://localhost:8080/",
          "height": 34
        }
      },
      "source": [
        "print(B1.shape)"
      ],
      "execution_count": 0,
      "outputs": [
        {
          "output_type": "stream",
          "text": [
            "(3,)\n"
          ],
          "name": "stdout"
        }
      ]
    },
    {
      "cell_type": "code",
      "metadata": {
        "id": "xgWgIXXVqt2Q",
        "colab_type": "code",
        "colab": {}
      },
      "source": [
        "A1 = np.dot(X,W1) + B1\n",
        "Z1 = sigmoid(A1)"
      ],
      "execution_count": 0,
      "outputs": []
    },
    {
      "cell_type": "code",
      "metadata": {
        "id": "Jvj4aC7Dq-b4",
        "colab_type": "code",
        "outputId": "6aaaab14-c649-4395-b67a-9522799715d8",
        "colab": {
          "base_uri": "https://localhost:8080/",
          "height": 34
        }
      },
      "source": [
        "print(A1)"
      ],
      "execution_count": 0,
      "outputs": [
        {
          "output_type": "stream",
          "text": [
            "[0.3 0.7 1.1]\n"
          ],
          "name": "stdout"
        }
      ]
    },
    {
      "cell_type": "code",
      "metadata": {
        "id": "paz4aQ4mrAri",
        "colab_type": "code",
        "outputId": "c54f849f-25e4-40c2-c897-475fbe1f9094",
        "colab": {
          "base_uri": "https://localhost:8080/",
          "height": 34
        }
      },
      "source": [
        "print(Z1)"
      ],
      "execution_count": 0,
      "outputs": [
        {
          "output_type": "stream",
          "text": [
            "[0.57444252 0.66818777 0.75026011]\n"
          ],
          "name": "stdout"
        }
      ]
    },
    {
      "cell_type": "code",
      "metadata": {
        "id": "5rXDPf1mrC8R",
        "colab_type": "code",
        "outputId": "5351690b-dce7-4c08-96ce-942f01a57d28",
        "colab": {
          "base_uri": "https://localhost:8080/",
          "height": 34
        }
      },
      "source": [
        "W2 = np.array([[0.1,0.4],[0.2,0.5],[0.3,0.6]])\n",
        "B2 = np.array([0.1,0.2])\n",
        "print(Z1.shape)"
      ],
      "execution_count": 0,
      "outputs": [
        {
          "output_type": "stream",
          "text": [
            "(3,)\n"
          ],
          "name": "stdout"
        }
      ]
    },
    {
      "cell_type": "code",
      "metadata": {
        "id": "iEi6zb14rYkY",
        "colab_type": "code",
        "outputId": "5247725e-73e0-4d80-e77a-5cc7fe2fae3e",
        "colab": {
          "base_uri": "https://localhost:8080/",
          "height": 34
        }
      },
      "source": [
        "print(W2.shape)"
      ],
      "execution_count": 0,
      "outputs": [
        {
          "output_type": "stream",
          "text": [
            "(3, 2)\n"
          ],
          "name": "stdout"
        }
      ]
    },
    {
      "cell_type": "code",
      "metadata": {
        "id": "KIeTAxcyrbj0",
        "colab_type": "code",
        "outputId": "3a87adba-220d-4d8b-9233-b27a524738dc",
        "colab": {
          "base_uri": "https://localhost:8080/",
          "height": 34
        }
      },
      "source": [
        "print(B2.shape)"
      ],
      "execution_count": 0,
      "outputs": [
        {
          "output_type": "stream",
          "text": [
            "(2,)\n"
          ],
          "name": "stdout"
        }
      ]
    },
    {
      "cell_type": "code",
      "metadata": {
        "id": "25jlxKThres5",
        "colab_type": "code",
        "colab": {}
      },
      "source": [
        "A2 = np.dot(Z1,W2) + B2"
      ],
      "execution_count": 0,
      "outputs": []
    },
    {
      "cell_type": "code",
      "metadata": {
        "id": "8ZqH1r69rjA-",
        "colab_type": "code",
        "colab": {}
      },
      "source": [
        "Z2 = sigmoid(A2)"
      ],
      "execution_count": 0,
      "outputs": []
    },
    {
      "cell_type": "code",
      "metadata": {
        "id": "CF5teRRtr8ck",
        "colab_type": "code",
        "colab": {}
      },
      "source": [
        "def identity_function(x):\n",
        "  return x\n",
        "\n",
        "W3 = np.array([[0.1,0.3],[0.2,0.4]])\n",
        "B3 = np.array([0.1,0.2])\n",
        "\n",
        "A3 = np.dot(Z2,W3) + B3\n",
        "Y = identity_function(A3)"
      ],
      "execution_count": 0,
      "outputs": []
    },
    {
      "cell_type": "code",
      "metadata": {
        "id": "muac7km8sYTb",
        "colab_type": "code",
        "colab": {}
      },
      "source": [
        "#@title 3.4.3 実装のまとめ\n",
        "\n",
        "def init_network():\n",
        "  network = {}\n",
        "  network['W1'] = np.array([[0.1,0.3,0.5],[0.2,0.4,0.6]])\n",
        "  network['b1'] = np.array([0.1,0.2,0.3])\n",
        "  network['W2'] = np.array([[0.1,0.4],[0.2,0.5],[0.3,0.6]])\n",
        "  network['b2'] = np.array([0.1,0.2])\n",
        "  network['W3'] = np.array([[0.1,0.3],[0.2,0.4]])\n",
        "  network['b3'] = np.array([0.1,0.2])\n",
        "  \n",
        "  return network"
      ],
      "execution_count": 0,
      "outputs": []
    },
    {
      "cell_type": "code",
      "metadata": {
        "id": "LWafmy8btUtK",
        "colab_type": "code",
        "colab": {}
      },
      "source": [
        "def forward(network,x):\n",
        "  W1,W2,W3 = network['W1'], network['W2'],network['W3']\n",
        "  b1,b2,b3 = network['b1'], network['b2'], network['b3']\n",
        "  \n",
        "  a1 = np.dot(x,W1) + b1\n",
        "  z1 = sigmoid(a1)\n",
        "  a2 = np.dot(z1,W2) + b2\n",
        "  z2 = sigmoid(a2)\n",
        "  a3 = np.dot(z2,W3) + b3\n",
        "  y = identity_function(a3)\n",
        "  \n",
        "  return y"
      ],
      "execution_count": 0,
      "outputs": []
    },
    {
      "cell_type": "code",
      "metadata": {
        "id": "F0VeKrCBuayZ",
        "colab_type": "code",
        "outputId": "4bc33292-e180-408d-944a-1fa9ba9b2c1d",
        "colab": {
          "base_uri": "https://localhost:8080/",
          "height": 34
        }
      },
      "source": [
        "network = init_network()\n",
        "x = np.array([1.0,0.5])\n",
        "y = forward(network,x)\n",
        "print(y)"
      ],
      "execution_count": 0,
      "outputs": [
        {
          "output_type": "stream",
          "text": [
            "[0.31682708 0.69627909]\n"
          ],
          "name": "stdout"
        }
      ]
    },
    {
      "cell_type": "code",
      "metadata": {
        "id": "b_UefKDnuxY3",
        "colab_type": "code",
        "outputId": "5f54b47d-7275-47d8-d79f-708a7a699ca4",
        "colab": {
          "base_uri": "https://localhost:8080/",
          "height": 34
        }
      },
      "source": [
        "#@title 出力層の設計\n",
        "\n",
        "a = np.array([0.3,2.9,4.0])\n",
        "exp_a = np.exp(a)\n",
        "print(exp_a)\n"
      ],
      "execution_count": 0,
      "outputs": [
        {
          "output_type": "stream",
          "text": [
            "[ 1.34985881 18.17414537 54.59815003]\n"
          ],
          "name": "stdout"
        }
      ]
    },
    {
      "cell_type": "code",
      "metadata": {
        "id": "3H1TLNVFu-6R",
        "colab_type": "code",
        "outputId": "0f1b0c22-a8bd-4716-df33-23da8adcb082",
        "colab": {
          "base_uri": "https://localhost:8080/",
          "height": 34
        }
      },
      "source": [
        "sum_exp_a = np.sum(exp_a)\n",
        "print(sum_exp_a)"
      ],
      "execution_count": 0,
      "outputs": [
        {
          "output_type": "stream",
          "text": [
            "74.1221542101633\n"
          ],
          "name": "stdout"
        }
      ]
    },
    {
      "cell_type": "code",
      "metadata": {
        "id": "MnPwTHS3vKfN",
        "colab_type": "code",
        "colab": {}
      },
      "source": [
        "y = exp_a /sum_exp_a"
      ],
      "execution_count": 0,
      "outputs": []
    },
    {
      "cell_type": "code",
      "metadata": {
        "id": "iHOkjzz4vRf3",
        "colab_type": "code",
        "outputId": "266dc5db-d014-4004-e069-8e72bb11cd2b",
        "colab": {
          "base_uri": "https://localhost:8080/",
          "height": 34
        }
      },
      "source": [
        "print(y)"
      ],
      "execution_count": 0,
      "outputs": [
        {
          "output_type": "stream",
          "text": [
            "[0.01821127 0.24519181 0.73659691]\n"
          ],
          "name": "stdout"
        }
      ]
    },
    {
      "cell_type": "code",
      "metadata": {
        "id": "5wa788ojvTwR",
        "colab_type": "code",
        "outputId": "ea5cfea8-f2c1-43a8-aa22-e77fabb92bb7",
        "colab": {
          "base_uri": "https://localhost:8080/",
          "height": 70
        }
      },
      "source": [
        "#@title 3.5.2 ソフトマックス関数の実装上の注意\n",
        "\n",
        "a = np.array([1010,1000,990])\n",
        "np.exp(a)  #指数関数なのですぐオーバーフローする\n",
        "\n",
        "\n"
      ],
      "execution_count": 0,
      "outputs": [
        {
          "output_type": "stream",
          "text": [
            "/usr/local/lib/python3.6/dist-packages/ipykernel_launcher.py:3: RuntimeWarning: overflow encountered in exp\n",
            "  This is separate from the ipykernel package so we can avoid doing imports until\n"
          ],
          "name": "stderr"
        },
        {
          "output_type": "execute_result",
          "data": {
            "text/plain": [
              "array([inf, inf, inf])"
            ]
          },
          "metadata": {
            "tags": []
          },
          "execution_count": 74
        }
      ]
    },
    {
      "cell_type": "code",
      "metadata": {
        "id": "OjALmFpGvtpx",
        "colab_type": "code",
        "outputId": "66d00308-de92-4e00-d5f2-6d7877b49717",
        "colab": {
          "base_uri": "https://localhost:8080/",
          "height": 34
        }
      },
      "source": [
        "c = np.max(a)\n",
        "\n",
        "a - c"
      ],
      "execution_count": 0,
      "outputs": [
        {
          "output_type": "execute_result",
          "data": {
            "text/plain": [
              "array([  0, -10, -20])"
            ]
          },
          "metadata": {
            "tags": []
          },
          "execution_count": 75
        }
      ]
    },
    {
      "cell_type": "code",
      "metadata": {
        "id": "LdNe4WTivwK6",
        "colab_type": "code",
        "outputId": "ab2362ac-1279-4510-923a-ff9a8578f3ba",
        "colab": {
          "base_uri": "https://localhost:8080/",
          "height": 34
        }
      },
      "source": [
        "np.exp(a-c)/ np.sum(np.exp(a -c))"
      ],
      "execution_count": 0,
      "outputs": [
        {
          "output_type": "execute_result",
          "data": {
            "text/plain": [
              "array([9.99954600e-01, 4.53978686e-05, 2.06106005e-09])"
            ]
          },
          "metadata": {
            "tags": []
          },
          "execution_count": 76
        }
      ]
    },
    {
      "cell_type": "code",
      "metadata": {
        "id": "ZpR7DWjVv8qn",
        "colab_type": "code",
        "colab": {}
      },
      "source": [
        "def softmax(a):\n",
        "  c = np.max(a)\n",
        "  exp_a = np.exp(a-c) #最大値の引くことでオーバーフローを防ぐ\n",
        "  sum_exp_a = np.sum(exp_a)\n",
        "  y = exp_a / sum_exp_a\n",
        "  return y"
      ],
      "execution_count": 0,
      "outputs": []
    },
    {
      "cell_type": "code",
      "metadata": {
        "id": "yXT-Svguwogz",
        "colab_type": "code",
        "outputId": "3874e223-2ca9-4789-c704-d90f6cb9666f",
        "colab": {
          "base_uri": "https://localhost:8080/",
          "height": 34
        }
      },
      "source": [
        "#@title 3.5.3 ソフトマックス関数の特徴\n",
        "\n",
        "a = np.array([0.3,2.9,4.0])\n",
        "y = softmax(a)\n",
        "print(y)\n",
        "\n"
      ],
      "execution_count": 0,
      "outputs": [
        {
          "output_type": "stream",
          "text": [
            "[0.01821127 0.24519181 0.73659691]\n"
          ],
          "name": "stdout"
        }
      ]
    },
    {
      "cell_type": "code",
      "metadata": {
        "id": "KI-7QqIExboE",
        "colab_type": "code",
        "outputId": "8d52cc28-f445-4d27-e7f5-f3e7ce49e3e6",
        "colab": {
          "base_uri": "https://localhost:8080/",
          "height": 34
        }
      },
      "source": [
        "np.sum(y)"
      ],
      "execution_count": 0,
      "outputs": [
        {
          "output_type": "execute_result",
          "data": {
            "text/plain": [
              "1.0"
            ]
          },
          "metadata": {
            "tags": []
          },
          "execution_count": 84
        }
      ]
    },
    {
      "cell_type": "code",
      "metadata": {
        "id": "Jd3V1vX1xHsH",
        "colab_type": "code",
        "outputId": "b297c6f5-f63a-4e5c-a33b-2d420587089d",
        "colab": {
          "base_uri": "https://localhost:8080/",
          "height": 34
        }
      },
      "source": [
        "#@title 3.6 手書き数字認識\n",
        "#@title 3.6.1 MNIST　データセット\n",
        "!ls\n",
        "\n"
      ],
      "execution_count": 0,
      "outputs": [
        {
          "output_type": "stream",
          "text": [
            "deep-learning-from-scratch  sample_data\n"
          ],
          "name": "stdout"
        }
      ]
    },
    {
      "cell_type": "code",
      "metadata": {
        "id": "ai2qMbKdy7Ye",
        "colab_type": "code",
        "outputId": "1ede3d7b-af38-46e1-8c86-d5d7c513bad7",
        "colab": {
          "base_uri": "https://localhost:8080/",
          "height": 334
        }
      },
      "source": [
        "import sys, os\n",
        "sys.path.append(\"./deep-learning-from-scratch\")\n",
        "from dataset.mnist import load_mnist\n",
        "#訓練画像、訓練ラベル　テスト画像　テストラベル\n",
        "(x_train,t_train),(x_test,t_test) = \\　　　\n",
        "  load_mnist(flatten=True,normalize=False)"
      ],
      "execution_count": 0,
      "outputs": [
        {
          "output_type": "stream",
          "text": [
            "Downloading train-images-idx3-ubyte.gz ... \n",
            "Done\n",
            "Downloading train-labels-idx1-ubyte.gz ... \n",
            "Done\n",
            "Downloading t10k-images-idx3-ubyte.gz ... \n",
            "Done\n",
            "Downloading t10k-labels-idx1-ubyte.gz ... \n",
            "Done\n",
            "Converting train-images-idx3-ubyte.gz to NumPy Array ...\n",
            "Done\n",
            "Converting train-labels-idx1-ubyte.gz to NumPy Array ...\n",
            "Done\n",
            "Converting t10k-images-idx3-ubyte.gz to NumPy Array ...\n",
            "Done\n",
            "Converting t10k-labels-idx1-ubyte.gz to NumPy Array ...\n",
            "Done\n",
            "Creating pickle file ...\n",
            "Done!\n"
          ],
          "name": "stdout"
        }
      ]
    },
    {
      "cell_type": "code",
      "metadata": {
        "id": "U9XLjPWWzELk",
        "colab_type": "code",
        "outputId": "67b0c7e1-1b6a-401e-bb8d-790445e02fbd",
        "colab": {
          "base_uri": "https://localhost:8080/",
          "height": 34
        }
      },
      "source": [
        "print(x_train.shape)"
      ],
      "execution_count": 0,
      "outputs": [
        {
          "output_type": "stream",
          "text": [
            "(60000, 784)\n"
          ],
          "name": "stdout"
        }
      ]
    },
    {
      "cell_type": "code",
      "metadata": {
        "id": "eImS1iyezJ00",
        "colab_type": "code",
        "outputId": "afaa1a67-07a9-4084-f7a5-c8f940931cd6",
        "colab": {
          "base_uri": "https://localhost:8080/",
          "height": 34
        }
      },
      "source": [
        "print(t_train.shape)"
      ],
      "execution_count": 0,
      "outputs": [
        {
          "output_type": "stream",
          "text": [
            "(60000,)\n"
          ],
          "name": "stdout"
        }
      ]
    },
    {
      "cell_type": "code",
      "metadata": {
        "id": "iwojj81CzOo5",
        "colab_type": "code",
        "outputId": "92375f54-1365-4a0b-c972-709bb0d2e90a",
        "colab": {
          "base_uri": "https://localhost:8080/",
          "height": 34
        }
      },
      "source": [
        "print(x_test.shape)"
      ],
      "execution_count": 0,
      "outputs": [
        {
          "output_type": "stream",
          "text": [
            "(10000, 784)\n"
          ],
          "name": "stdout"
        }
      ]
    },
    {
      "cell_type": "code",
      "metadata": {
        "id": "KdL8uwrzzR1u",
        "colab_type": "code",
        "outputId": "1a208705-a8ad-4b98-d13e-04b403853a23",
        "colab": {
          "base_uri": "https://localhost:8080/",
          "height": 34
        }
      },
      "source": [
        "print(t_test.shape)"
      ],
      "execution_count": 0,
      "outputs": [
        {
          "output_type": "stream",
          "text": [
            "(10000,)\n"
          ],
          "name": "stdout"
        }
      ]
    },
    {
      "cell_type": "code",
      "metadata": {
        "id": "yHkrBvH_zb6s",
        "colab_type": "code",
        "colab": {}
      },
      "source": [
        "import sys,os\n",
        "sys.path.append(\"./deep-learning-from-scratch\")\n",
        "import numpy as np\n",
        "from dataset.mnist import load_mnist\n",
        "from PIL import Image\n",
        "import IPython"
      ],
      "execution_count": 0,
      "outputs": []
    },
    {
      "cell_type": "code",
      "metadata": {
        "id": "sAy4K8bs1Hq_",
        "colab_type": "code",
        "colab": {}
      },
      "source": [
        ""
      ],
      "execution_count": 0,
      "outputs": []
    },
    {
      "cell_type": "code",
      "metadata": {
        "id": "5Qyo_UDPzs7Q",
        "colab_type": "code",
        "outputId": "b4eea081-58e0-4c55-cf5f-588247a1b18f",
        "colab": {
          "base_uri": "https://localhost:8080/",
          "height": 34
        }
      },
      "source": [
        "def img_show(img):\n",
        "  pil_img = Image.fromarray(np.uint8(img))\n",
        "  pil_img.show()\n",
        "  pil_img.save(\"test.png\") #colaboratory で表示されないので一旦セーブ  Ipythonで表示\n",
        "\n",
        "  \n",
        "  \n",
        "(x_train, t_train),(x_test,t_test) = \\\n",
        "  load_mnist(flatten=True,normalize=False)\n",
        "\n",
        "img = x_train[0]\n",
        "label = t_train[0]\n",
        "print(label)"
      ],
      "execution_count": 0,
      "outputs": [
        {
          "output_type": "stream",
          "text": [
            "5\n"
          ],
          "name": "stdout"
        }
      ]
    },
    {
      "cell_type": "code",
      "metadata": {
        "id": "9DS6kgv32Tji",
        "colab_type": "code",
        "colab": {}
      },
      "source": [
        ""
      ],
      "execution_count": 0,
      "outputs": []
    },
    {
      "cell_type": "code",
      "metadata": {
        "id": "GrRFqU6q0VWf",
        "colab_type": "code",
        "outputId": "c6f065a3-d37a-47ab-b74d-debbdab29d00",
        "colab": {
          "base_uri": "https://localhost:8080/",
          "height": 34
        }
      },
      "source": [
        "print(img.shape)"
      ],
      "execution_count": 0,
      "outputs": [
        {
          "output_type": "stream",
          "text": [
            "(784,)\n"
          ],
          "name": "stdout"
        }
      ]
    },
    {
      "cell_type": "code",
      "metadata": {
        "id": "KbWUaJj10d1r",
        "colab_type": "code",
        "colab": {}
      },
      "source": [
        "img = img.reshape(28,28)"
      ],
      "execution_count": 0,
      "outputs": []
    },
    {
      "cell_type": "code",
      "metadata": {
        "id": "5cqsoaWA0hro",
        "colab_type": "code",
        "outputId": "1cbc924f-0345-4839-b755-6b59ced16f12",
        "colab": {
          "base_uri": "https://localhost:8080/",
          "height": 34
        }
      },
      "source": [
        "print(img.shape)"
      ],
      "execution_count": 0,
      "outputs": [
        {
          "output_type": "stream",
          "text": [
            "(28, 28)\n"
          ],
          "name": "stdout"
        }
      ]
    },
    {
      "cell_type": "code",
      "metadata": {
        "id": "WTLDdHw80ktB",
        "colab_type": "code",
        "colab": {}
      },
      "source": [
        "img_show(img)"
      ],
      "execution_count": 0,
      "outputs": []
    },
    {
      "cell_type": "code",
      "metadata": {
        "id": "ahZ3r6rD1Igg",
        "colab_type": "code",
        "outputId": "705a9e9e-6fff-471a-f508-6b2a82c7e5bb",
        "colab": {
          "base_uri": "https://localhost:8080/",
          "height": 45
        }
      },
      "source": [
        "IPython.display.Image(\"test.png\")"
      ],
      "execution_count": 0,
      "outputs": [
        {
          "output_type": "execute_result",
          "data": {
            "image/png": "[encoded data removed]",
            "text/plain": [
              "<IPython.core.display.Image object>"
            ]
          },
          "metadata": {
            "tags": []
          },
          "execution_count": 112
        }
      ]
    },
    {
      "cell_type": "code",
      "metadata": {
        "id": "qnUWpfgt2Ujo",
        "colab_type": "code",
        "colab": {}
      },
      "source": [
        "#@title 3.6.2　ニューラルネットワークの推論処理\n",
        "import pickle\n",
        "def get_data():\n",
        "  (x_train,t_train),(x_test,t_test) = \\\n",
        "    load_mnist(normalize = True,flatten=True,one_hot_label=False)\n",
        "  return x_test,t_test\n",
        "\n",
        "def init_network():\n",
        "  with open(\"./deep-learning-from-scratch/ch03/sample_weight.pkl\",'rb') as f:\n",
        "    network = pickle.load(f)\n",
        "    \n",
        "  return network\n",
        "\n",
        "def predict(network,x):\n",
        "  W1,W2,W3 = network['W1'],network['W2'],network['W3']\n",
        "  b1,b2,b3 = network['b1'],network['b2'],network['b3']\n",
        "\n",
        "  a1 = np.dot(x,W1) + b1\n",
        "  z1 = sigmoid(a1)\n",
        "  a2 = np.dot(z1,W2) + b2\n",
        "  z2 = sigmoid(a2)\n",
        "  a3 = np.dot(z2,W3) + b3\n",
        "  y = softmax(a3)\n",
        "  \n",
        "  return y"
      ],
      "execution_count": 0,
      "outputs": []
    },
    {
      "cell_type": "code",
      "metadata": {
        "id": "Qz-TPJRk4Hgc",
        "colab_type": "code",
        "outputId": "0c7a50d6-2215-46cb-bda7-1fed96fa9cf1",
        "colab": {
          "base_uri": "https://localhost:8080/",
          "height": 34
        }
      },
      "source": [
        "x , t = get_data()\n",
        "network = init_network()\n",
        "\n",
        "accuracy_cnt = 0\n",
        "for i in range(len(x)):\n",
        "  y = predict(network,x[i])\n",
        "  p = np.argmax(y)\n",
        "  \n",
        "  if p == t[i]:\n",
        "    accuracy_cnt +=1\n",
        "    \n",
        "print(\"Accuracy:\" + str(float(accuracy_cnt)/len(x)))"
      ],
      "execution_count": 0,
      "outputs": [
        {
          "output_type": "stream",
          "text": [
            "Accuracy:0.9352\n"
          ],
          "name": "stdout"
        }
      ]
    },
    {
      "cell_type": "code",
      "metadata": {
        "id": "IvH90b5c5jkW",
        "colab_type": "code",
        "outputId": "38a0a334-e0bd-4b65-9816-c294be6edf07",
        "colab": {
          "base_uri": "https://localhost:8080/",
          "height": 34
        }
      },
      "source": [
        "#@title 3.6.3 バッチ処理\n",
        "\n",
        "x, _ = get_data()\n",
        "network = init_network()\n",
        "W1,W2,W3 = network['W1'],network['W2'],network['W3']\n",
        "\n",
        "x.shape\n",
        "\n",
        "\n"
      ],
      "execution_count": 0,
      "outputs": [
        {
          "output_type": "execute_result",
          "data": {
            "text/plain": [
              "(10000, 784)"
            ]
          },
          "metadata": {
            "tags": []
          },
          "execution_count": 121
        }
      ]
    },
    {
      "cell_type": "code",
      "metadata": {
        "id": "GC-8NMxO58vR",
        "colab_type": "code",
        "outputId": "0680b036-9f6b-4c3a-c54e-3a9ba9ac8ab1",
        "colab": {
          "base_uri": "https://localhost:8080/",
          "height": 34
        }
      },
      "source": [
        "x[0].shape"
      ],
      "execution_count": 0,
      "outputs": [
        {
          "output_type": "execute_result",
          "data": {
            "text/plain": [
              "(784,)"
            ]
          },
          "metadata": {
            "tags": []
          },
          "execution_count": 122
        }
      ]
    },
    {
      "cell_type": "code",
      "metadata": {
        "id": "KO2qlS505_l0",
        "colab_type": "code",
        "outputId": "acffde4f-4d49-4ec3-cbd3-d96054f4c589",
        "colab": {
          "base_uri": "https://localhost:8080/",
          "height": 34
        }
      },
      "source": [
        "W1.shape"
      ],
      "execution_count": 0,
      "outputs": [
        {
          "output_type": "execute_result",
          "data": {
            "text/plain": [
              "(784, 50)"
            ]
          },
          "metadata": {
            "tags": []
          },
          "execution_count": 123
        }
      ]
    },
    {
      "cell_type": "code",
      "metadata": {
        "id": "BbsHKxz56B2y",
        "colab_type": "code",
        "outputId": "ba443851-4a27-493f-fd0b-4af570f885d3",
        "colab": {
          "base_uri": "https://localhost:8080/",
          "height": 34
        }
      },
      "source": [
        "W2.shape"
      ],
      "execution_count": 0,
      "outputs": [
        {
          "output_type": "execute_result",
          "data": {
            "text/plain": [
              "(50, 100)"
            ]
          },
          "metadata": {
            "tags": []
          },
          "execution_count": 124
        }
      ]
    },
    {
      "cell_type": "code",
      "metadata": {
        "id": "XUcmv99B6Epk",
        "colab_type": "code",
        "outputId": "7b1b15b2-054b-4951-dd28-c309b0c6a3aa",
        "colab": {
          "base_uri": "https://localhost:8080/",
          "height": 34
        }
      },
      "source": [
        "W3.shape"
      ],
      "execution_count": 0,
      "outputs": [
        {
          "output_type": "execute_result",
          "data": {
            "text/plain": [
              "(100, 10)"
            ]
          },
          "metadata": {
            "tags": []
          },
          "execution_count": 125
        }
      ]
    },
    {
      "cell_type": "code",
      "metadata": {
        "id": "sKKYQnka6PKt",
        "colab_type": "code",
        "outputId": "24383d66-32bf-4034-fcd5-8430bfb5ad1e",
        "colab": {
          "base_uri": "https://localhost:8080/",
          "height": 34
        }
      },
      "source": [
        "x,t = get_data()\n",
        "network = init_network()\n",
        "\n",
        "batch_size = 100\n",
        "accuracy_cnt = 0\n",
        "\n",
        "for i in range(0,len(x),batch_size):\n",
        "  x_batch = x[i:i+batch_size]\n",
        "  y_batch = predict(network,x_batch)\n",
        "  p = np.argmax(y_batch,axis=1)\n",
        "  accuracy_cnt += np.sum(p == t[i:i+batch_size])\n",
        "  \n",
        "print(\"Accuracy:\" + str(float(accuracy_cnt)/len(x)))"
      ],
      "execution_count": 0,
      "outputs": [
        {
          "output_type": "stream",
          "text": [
            "Accuracy:0.9352\n"
          ],
          "name": "stdout"
        }
      ]
    },
    {
      "cell_type": "code",
      "metadata": {
        "id": "PMB6Gwy37CeH",
        "colab_type": "code",
        "outputId": "4efb087f-3381-473e-92ce-6d818fd8d91f",
        "colab": {
          "base_uri": "https://localhost:8080/",
          "height": 34
        }
      },
      "source": [
        "list(range(0,10))"
      ],
      "execution_count": 0,
      "outputs": [
        {
          "output_type": "execute_result",
          "data": {
            "text/plain": [
              "[0, 1, 2, 3, 4, 5, 6, 7, 8, 9]"
            ]
          },
          "metadata": {
            "tags": []
          },
          "execution_count": 127
        }
      ]
    },
    {
      "cell_type": "code",
      "metadata": {
        "id": "DDozFYjK7GVL",
        "colab_type": "code",
        "outputId": "7972ac64-252a-4e3d-9b7d-8346792612ea",
        "colab": {
          "base_uri": "https://localhost:8080/",
          "height": 34
        }
      },
      "source": [
        "list(range(0,10,3))"
      ],
      "execution_count": 0,
      "outputs": [
        {
          "output_type": "execute_result",
          "data": {
            "text/plain": [
              "[0, 3, 6, 9]"
            ]
          },
          "metadata": {
            "tags": []
          },
          "execution_count": 128
        }
      ]
    },
    {
      "cell_type": "code",
      "metadata": {
        "id": "Fuq8yJcL7L_c",
        "colab_type": "code",
        "outputId": "dabf507e-4793-448f-f093-7b7cff5d56bd",
        "colab": {
          "base_uri": "https://localhost:8080/",
          "height": 34
        }
      },
      "source": [
        "x = np.array([[0.1,0.8,0.1],[0.3,0.1,0.6],[0.2,0.5,0.3],[0.8,0.1,0.1]])\n",
        "y = np.argmax(x,axis=1)\n",
        "print(y)"
      ],
      "execution_count": 0,
      "outputs": [
        {
          "output_type": "stream",
          "text": [
            "[1 2 1 0]\n"
          ],
          "name": "stdout"
        }
      ]
    },
    {
      "cell_type": "code",
      "metadata": {
        "id": "u0RielvI8DaP",
        "colab_type": "code",
        "outputId": "9fdac857-6cda-4e0e-d89b-7e7a96444020",
        "colab": {
          "base_uri": "https://localhost:8080/",
          "height": 34
        }
      },
      "source": [
        "y = np.array([1,2,1,0])\n",
        "t = np.array([1,2,0,0])\n",
        "print(y==t)\n"
      ],
      "execution_count": 0,
      "outputs": [
        {
          "output_type": "stream",
          "text": [
            "[ True  True False  True]\n"
          ],
          "name": "stdout"
        }
      ]
    },
    {
      "cell_type": "code",
      "metadata": {
        "id": "majK08gF8P0O",
        "colab_type": "code",
        "outputId": "c436c8c2-e9fa-4d1f-c442-2756d2921f36",
        "colab": {
          "base_uri": "https://localhost:8080/",
          "height": 34
        }
      },
      "source": [
        "np.sum(y==t)"
      ],
      "execution_count": 0,
      "outputs": [
        {
          "output_type": "execute_result",
          "data": {
            "text/plain": [
              "3"
            ]
          },
          "metadata": {
            "tags": []
          },
          "execution_count": 131
        }
      ]
    }
  ]
}