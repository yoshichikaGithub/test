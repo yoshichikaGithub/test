{
  "nbformat": 4,
  "nbformat_minor": 0,
  "metadata": {
    "colab": {
      "name": "Untitled8.ipynb",
      "version": "0.3.2",
      "provenance": [],
      "include_colab_link": true
    },
    "kernelspec": {
      "name": "python3",
      "display_name": "Python 3"
    }
  },
  "cells": [
    {
      "cell_type": "markdown",
      "metadata": {
        "id": "view-in-github",
        "colab_type": "text"
      },
      "source": [
        "<a href=\"https://colab.research.google.com/github/HisakaKoji/test/blob/master/chapter4.ipynb\" target=\"_parent\"><img src=\"https://colab.research.google.com/assets/colab-badge.svg\" alt=\"Open In Colab\"/></a>"
      ]
    },
    {
      "cell_type": "code",
      "metadata": {
        "id": "B-umMl9jeZp4",
        "colab_type": "code",
        "colab": {}
      },
      "source": [
        "#@title 4章　ニューラルネットワークの学習\n",
        "\n"
      ],
      "execution_count": 0,
      "outputs": []
    },
    {
      "cell_type": "code",
      "metadata": {
        "id": "AKxt_Ifte0lc",
        "colab_type": "code",
        "colab": {}
      },
      "source": [
        "#@title 4.2.1 ２乗和誤差"
      ],
      "execution_count": 0,
      "outputs": []
    },
    {
      "cell_type": "code",
      "metadata": {
        "id": "T9SZ3pXQe2Ab",
        "colab_type": "code",
        "colab": {
          "base_uri": "https://localhost:8080/",
          "height": 34
        },
        "outputId": "f7ad725d-32e7-4106-e3a7-de2e60c48d47"
      },
      "source": [
        "import numpy as np\n",
        "y = [0.1,0.05,0.6,0.0,0.05,0.1,0.0,0.1,0.0,0.0]\n",
        "t = [0,0,1,0,0,0,0,0,0,0]\n",
        "\n",
        "def mean_squared_error(y,t):  \n",
        "  return 0.5 * np.sum((y-t)**2)\n",
        "\n",
        "mean_squared_error(np.array(y),np.array(t))"
      ],
      "execution_count": 2,
      "outputs": [
        {
          "output_type": "execute_result",
          "data": {
            "text/plain": [
              "0.09750000000000003"
            ]
          },
          "metadata": {
            "tags": []
          },
          "execution_count": 2
        }
      ]
    },
    {
      "cell_type": "code",
      "metadata": {
        "id": "Wzf3Q6Cof0Te",
        "colab_type": "code",
        "colab": {}
      },
      "source": [
        ""
      ],
      "execution_count": 0,
      "outputs": []
    },
    {
      "cell_type": "code",
      "metadata": {
        "id": "Qr0YWytFffX9",
        "colab_type": "code",
        "colab": {
          "base_uri": "https://localhost:8080/",
          "height": 34
        },
        "outputId": "f1180d43-0a6e-4c7b-dd45-f7a0a73edf71"
      },
      "source": [
        "y = [0.1,0.05,0.1,0.0,0.05,0.1,0.0,0.6,0.0,0.0]\n",
        "mean_squared_error(np.array(y),np.array(t))"
      ],
      "execution_count": 3,
      "outputs": [
        {
          "output_type": "execute_result",
          "data": {
            "text/plain": [
              "0.5975"
            ]
          },
          "metadata": {
            "tags": []
          },
          "execution_count": 3
        }
      ]
    },
    {
      "cell_type": "code",
      "metadata": {
        "id": "9rY-0NXUf1lf",
        "colab_type": "code",
        "colab": {}
      },
      "source": [
        "#@title 4.2.2 交差エントロピー誤差"
      ],
      "execution_count": 0,
      "outputs": []
    },
    {
      "cell_type": "code",
      "metadata": {
        "id": "YxPWAW5pf6Xn",
        "colab_type": "code",
        "colab": {}
      },
      "source": [
        "def cross_entropy_error(y,t):\n",
        "  delta = 1e-7\n",
        "  return -np.sum(t* np.log(y+delta))"
      ],
      "execution_count": 0,
      "outputs": []
    },
    {
      "cell_type": "code",
      "metadata": {
        "id": "22I9bABagK7a",
        "colab_type": "code",
        "colab": {
          "base_uri": "https://localhost:8080/",
          "height": 34
        },
        "outputId": "eaa9f26c-a8e6-42d4-9dfd-e1a7e94c9ef7"
      },
      "source": [
        "t = [0,0,1,0,0,0,0,0,0,0]\n",
        "y = [0.1,0.05,0.6,0.0,0.05,0.1,0.0,0.1,0.0,0.0]\n",
        "cross_entropy_error(np.array(y),np.array(t))"
      ],
      "execution_count": 6,
      "outputs": [
        {
          "output_type": "execute_result",
          "data": {
            "text/plain": [
              "0.510825457099338"
            ]
          },
          "metadata": {
            "tags": []
          },
          "execution_count": 6
        }
      ]
    },
    {
      "cell_type": "code",
      "metadata": {
        "id": "HNUwcnn4giZ5",
        "colab_type": "code",
        "colab": {
          "base_uri": "https://localhost:8080/",
          "height": 34
        },
        "outputId": "43e0acbd-66d4-4182-81cf-b55d32b3ced6"
      },
      "source": [
        "y = [0.1,0.05,0.1,0.0,0.05,0.1,0.0,0.6,0.0,0.0]\n",
        "cross_entropy_error(np.array(y),np.array(t))"
      ],
      "execution_count": 9,
      "outputs": [
        {
          "output_type": "execute_result",
          "data": {
            "text/plain": [
              "2.302584092994546"
            ]
          },
          "metadata": {
            "tags": []
          },
          "execution_count": 9
        }
      ]
    },
    {
      "cell_type": "code",
      "metadata": {
        "id": "mKze-FVqg3JZ",
        "colab_type": "code",
        "colab": {}
      },
      "source": [
        "import sys,os"
      ],
      "execution_count": 0,
      "outputs": []
    },
    {
      "cell_type": "code",
      "metadata": {
        "id": "GlIp36y6hACi",
        "colab_type": "code",
        "colab": {
          "base_uri": "https://localhost:8080/",
          "height": 34
        },
        "outputId": "6694a3a6-6467-4ae5-c714-2308c7329119"
      },
      "source": [
        "%ls"
      ],
      "execution_count": 11,
      "outputs": [
        {
          "output_type": "stream",
          "text": [
            "\u001b[0m\u001b[01;34msample_data\u001b[0m/\n"
          ],
          "name": "stdout"
        }
      ]
    },
    {
      "cell_type": "code",
      "metadata": {
        "id": "-3cNQGaehEY6",
        "colab_type": "code",
        "colab": {
          "base_uri": "https://localhost:8080/",
          "height": 104
        },
        "outputId": "c26a2bca-6717-4c42-d97d-61d5447e419b"
      },
      "source": [
        "!git clone https://github.com/oreilly-japan/deep-learning-from-scratch.git"
      ],
      "execution_count": 12,
      "outputs": [
        {
          "output_type": "stream",
          "text": [
            "Cloning into 'deep-learning-from-scratch'...\n",
            "remote: Enumerating objects: 400, done.\u001b[K\n",
            "remote: Total 400 (delta 0), reused 0 (delta 0), pack-reused 400\u001b[K\n",
            "Receiving objects: 100% (400/400), 5.25 MiB | 33.61 MiB/s, done.\n",
            "Resolving deltas: 100% (206/206), done.\n"
          ],
          "name": "stdout"
        }
      ]
    },
    {
      "cell_type": "code",
      "metadata": {
        "id": "Kf6SCtrbhRou",
        "colab_type": "code",
        "colab": {
          "base_uri": "https://localhost:8080/",
          "height": 34
        },
        "outputId": "f040fac3-433e-4cf2-9820-92e6f527eeba"
      },
      "source": [
        "%ls"
      ],
      "execution_count": 13,
      "outputs": [
        {
          "output_type": "stream",
          "text": [
            "\u001b[0m\u001b[01;34mdeep-learning-from-scratch\u001b[0m/  \u001b[01;34msample_data\u001b[0m/\n"
          ],
          "name": "stdout"
        }
      ]
    },
    {
      "cell_type": "code",
      "metadata": {
        "id": "MOzsJLcHhUgf",
        "colab_type": "code",
        "colab": {}
      },
      "source": [
        "sys.path.append(\"./deep-learning-from-scratch\")"
      ],
      "execution_count": 0,
      "outputs": []
    },
    {
      "cell_type": "code",
      "metadata": {
        "id": "gBowO3zkhdKG",
        "colab_type": "code",
        "colab": {}
      },
      "source": [
        "import numpy as np\n",
        "from dataset.mnist import load_mnist"
      ],
      "execution_count": 0,
      "outputs": []
    },
    {
      "cell_type": "code",
      "metadata": {
        "id": "-RFv9D2Khjuy",
        "colab_type": "code",
        "colab": {
          "base_uri": "https://localhost:8080/",
          "height": 330
        },
        "outputId": "fe0f5d90-3168-4195-cfc8-c7cb0e9898e3"
      },
      "source": [
        "(x_train,t_train),(x_test,t_test) = \\\n",
        "  load_mnist(normalize=True,one_hot_label=True)"
      ],
      "execution_count": 16,
      "outputs": [
        {
          "output_type": "stream",
          "text": [
            "Downloading train-images-idx3-ubyte.gz ... \n",
            "Done\n",
            "Downloading train-labels-idx1-ubyte.gz ... \n",
            "Done\n",
            "Downloading t10k-images-idx3-ubyte.gz ... \n",
            "Done\n",
            "Downloading t10k-labels-idx1-ubyte.gz ... \n",
            "Done\n",
            "Converting train-images-idx3-ubyte.gz to NumPy Array ...\n",
            "Done\n",
            "Converting train-labels-idx1-ubyte.gz to NumPy Array ...\n",
            "Done\n",
            "Converting t10k-images-idx3-ubyte.gz to NumPy Array ...\n",
            "Done\n",
            "Converting t10k-labels-idx1-ubyte.gz to NumPy Array ...\n",
            "Done\n",
            "Creating pickle file ...\n",
            "Done!\n"
          ],
          "name": "stdout"
        }
      ]
    },
    {
      "cell_type": "code",
      "metadata": {
        "id": "HSK1COTJhwV4",
        "colab_type": "code",
        "colab": {
          "base_uri": "https://localhost:8080/",
          "height": 34
        },
        "outputId": "089fb783-813d-4358-8d2c-6083ec5f03b1"
      },
      "source": [
        "print(x_train.shape)"
      ],
      "execution_count": 17,
      "outputs": [
        {
          "output_type": "stream",
          "text": [
            "(60000, 784)\n"
          ],
          "name": "stdout"
        }
      ]
    },
    {
      "cell_type": "code",
      "metadata": {
        "id": "coZgXteDh0QU",
        "colab_type": "code",
        "colab": {
          "base_uri": "https://localhost:8080/",
          "height": 34
        },
        "outputId": "0d83defd-7226-4604-f258-31efbbcdcbed"
      },
      "source": [
        "print(t_train.shape)"
      ],
      "execution_count": 18,
      "outputs": [
        {
          "output_type": "stream",
          "text": [
            "(60000, 10)\n"
          ],
          "name": "stdout"
        }
      ]
    },
    {
      "cell_type": "code",
      "metadata": {
        "id": "Y1p1U6xPh5ws",
        "colab_type": "code",
        "colab": {}
      },
      "source": [
        "train_size = x_train.shape[0]\n",
        "batch_size = 10\n",
        "batch_mask = np.random.choice(train_size,batch_size)"
      ],
      "execution_count": 0,
      "outputs": []
    },
    {
      "cell_type": "code",
      "metadata": {
        "id": "vpE7S5S4iUmj",
        "colab_type": "code",
        "colab": {
          "base_uri": "https://localhost:8080/",
          "height": 52
        },
        "outputId": "92062240-8b55-4842-b93b-bb0b07b2710e"
      },
      "source": [
        "batch_mask"
      ],
      "execution_count": 21,
      "outputs": [
        {
          "output_type": "execute_result",
          "data": {
            "text/plain": [
              "array([49304, 49620,  9685, 32252, 59094, 47969, 36133, 39255, 11592,\n",
              "       47346])"
            ]
          },
          "metadata": {
            "tags": []
          },
          "execution_count": 21
        }
      ]
    },
    {
      "cell_type": "code",
      "metadata": {
        "id": "32bD-lwhiFBq",
        "colab_type": "code",
        "colab": {}
      },
      "source": [
        "x_batch = x_train[batch_mask]\n",
        "t_batch = t_train[batch_mask]"
      ],
      "execution_count": 0,
      "outputs": []
    },
    {
      "cell_type": "code",
      "metadata": {
        "id": "6acQYwggiX6v",
        "colab_type": "code",
        "colab": {
          "base_uri": "https://localhost:8080/",
          "height": 52
        },
        "outputId": "74f94f37-d0d5-43cf-e0ec-02925198858f"
      },
      "source": [
        "np.random.choice(60000,10)"
      ],
      "execution_count": 22,
      "outputs": [
        {
          "output_type": "execute_result",
          "data": {
            "text/plain": [
              "array([12315, 33289, 44574, 41640,  8900,  3617, 29387, 35513, 47890,\n",
              "        4905])"
            ]
          },
          "metadata": {
            "tags": []
          },
          "execution_count": 22
        }
      ]
    },
    {
      "cell_type": "code",
      "metadata": {
        "id": "_s3jRg1eifxm",
        "colab_type": "code",
        "colab": {}
      },
      "source": [
        "#@title 4.2.4 [バッチ対応版]　交差エントロピー誤差の実装\n",
        "\n",
        "def cross_entropy_error(y,t):\n",
        "  if y.ndim == 1:\n",
        "    t = t.reshape(1,t.size)\n",
        "    y = y.reshape(1,y.size)\n",
        "    \n",
        "  batch_size =y.shape[0]\n",
        "  return -np.sum(t*np.log(y)) / batch_size\n"
      ],
      "execution_count": 0,
      "outputs": []
    },
    {
      "cell_type": "code",
      "metadata": {
        "id": "WCOVFaWwkJEc",
        "colab_type": "code",
        "colab": {}
      },
      "source": [
        ""
      ],
      "execution_count": 0,
      "outputs": []
    },
    {
      "cell_type": "code",
      "metadata": {
        "id": "dcBbLyw9jFqk",
        "colab_type": "code",
        "colab": {}
      },
      "source": [
        "def cross_entropy_error(y,t):\n",
        "  if y.ndim == 1:\n",
        "    t = t.reshape(1,t.size)\n",
        "    y = y.reshape(1,y.size)\n",
        "    \n",
        "  batch_size = y.shape[0]\n",
        "  return -np.sum(np.log(y[np.arange(batch_size),t])) / batch_size"
      ],
      "execution_count": 0,
      "outputs": []
    },
    {
      "cell_type": "code",
      "metadata": {
        "id": "yru4Nv34kJ63",
        "colab_type": "code",
        "colab": {}
      },
      "source": [
        "#@title 4.3 数値微分\n",
        "#@title 4.3.1 微分"
      ],
      "execution_count": 0,
      "outputs": []
    },
    {
      "cell_type": "code",
      "metadata": {
        "id": "_zK1dEWHks7N",
        "colab_type": "code",
        "colab": {}
      },
      "source": [
        ""
      ],
      "execution_count": 0,
      "outputs": []
    },
    {
      "cell_type": "code",
      "metadata": {
        "id": "MCYvwVInkR-r",
        "colab_type": "code",
        "colab": {}
      },
      "source": [
        "def numerical_diff(f,x):\n",
        "  h = 1e-4\n",
        "  return (f(x+h)-f(x-h)) / (2*h)"
      ],
      "execution_count": 0,
      "outputs": []
    },
    {
      "cell_type": "code",
      "metadata": {
        "id": "TxHQCtp9ktwb",
        "colab_type": "code",
        "colab": {}
      },
      "source": [
        "#@title 4.3.2 数値微分の例\n",
        "def function_1(x):\n",
        "  return 0.01*x**2 + 0.1*x"
      ],
      "execution_count": 0,
      "outputs": []
    },
    {
      "cell_type": "code",
      "metadata": {
        "id": "bPIts8Xvk5H6",
        "colab_type": "code",
        "colab": {
          "base_uri": "https://localhost:8080/",
          "height": 283
        },
        "outputId": "90efaaf4-ff30-4059-a601-32fec02dca15"
      },
      "source": [
        "import numpy as np\n",
        "import matplotlib.pylab as plt\n",
        "\n",
        "x = np.arange(0.0,20.0,0.1)\n",
        "y = function_1(x)\n",
        "\n",
        "plt.xlabel(\"x\")\n",
        "plt.ylabel(\"f(x)\")\n",
        "plt.plot(x,y)\n",
        "plt.show()\n",
        "\n"
      ],
      "execution_count": 26,
      "outputs": [
        {
          "output_type": "display_data",
          "data": {
            "image/png": "[encoded data removed]",
            "text/plain": [
              "<Figure size 432x288 with 1 Axes>"
            ]
          },
          "metadata": {
            "tags": []
          }
        }
      ]
    },
    {
      "cell_type": "code",
      "metadata": {
        "id": "Cq76W8ielW2J",
        "colab_type": "code",
        "colab": {
          "base_uri": "https://localhost:8080/",
          "height": 34
        },
        "outputId": "6469c612-8817-4189-ae44-f5c8d888c929"
      },
      "source": [
        "numerical_diff(function_1,5)"
      ],
      "execution_count": 29,
      "outputs": [
        {
          "output_type": "execute_result",
          "data": {
            "text/plain": [
              "0.1999999999990898"
            ]
          },
          "metadata": {
            "tags": []
          },
          "execution_count": 29
        }
      ]
    },
    {
      "cell_type": "code",
      "metadata": {
        "id": "orTV9Aldlof7",
        "colab_type": "code",
        "colab": {
          "base_uri": "https://localhost:8080/",
          "height": 34
        },
        "outputId": "94877096-ecd3-46b3-ca12-3c339dac364f"
      },
      "source": [
        "numerical_diff(function_1,10)"
      ],
      "execution_count": 30,
      "outputs": [
        {
          "output_type": "execute_result",
          "data": {
            "text/plain": [
              "0.2999999999986347"
            ]
          },
          "metadata": {
            "tags": []
          },
          "execution_count": 30
        }
      ]
    },
    {
      "cell_type": "code",
      "metadata": {
        "id": "FNBXv-kklvah",
        "colab_type": "code",
        "colab": {}
      },
      "source": [
        "#@title 4.3.3 偏微分\n",
        "\n",
        "def function_2(x):\n",
        "  return x[0]**2 + x[1]**2\n"
      ],
      "execution_count": 0,
      "outputs": []
    },
    {
      "cell_type": "code",
      "metadata": {
        "id": "hY3m2Wl8l_Fb",
        "colab_type": "code",
        "colab": {
          "base_uri": "https://localhost:8080/",
          "height": 34
        },
        "outputId": "42a3e4de-4a4b-4fd0-d4e6-c40307e4b0ea"
      },
      "source": [
        "def function_tmp1(x0):\n",
        "  return x0*x0 + 4.0**2\n",
        "\n",
        "numerical_diff(function_tmp1,3.0)"
      ],
      "execution_count": 31,
      "outputs": [
        {
          "output_type": "execute_result",
          "data": {
            "text/plain": [
              "6.00000000000378"
            ]
          },
          "metadata": {
            "tags": []
          },
          "execution_count": 31
        }
      ]
    },
    {
      "cell_type": "code",
      "metadata": {
        "id": "A6CS2oHMmfLL",
        "colab_type": "code",
        "colab": {
          "base_uri": "https://localhost:8080/",
          "height": 34
        },
        "outputId": "d0c0428e-8a67-497c-d368-027d60648486"
      },
      "source": [
        "def function_tmp2(x1):\n",
        "  return 3.0**2.0 + x1*x1\n",
        "\n",
        "numerical_diff(function_tmp2,4.0)"
      ],
      "execution_count": 32,
      "outputs": [
        {
          "output_type": "execute_result",
          "data": {
            "text/plain": [
              "7.999999999999119"
            ]
          },
          "metadata": {
            "tags": []
          },
          "execution_count": 32
        }
      ]
    },
    {
      "cell_type": "code",
      "metadata": {
        "id": "Fhj1Yw-Gmr5S",
        "colab_type": "code",
        "colab": {}
      },
      "source": [
        "def numerical_gradient(f,x):\n",
        "  h = 1e-4\n",
        "  grad = np.zeros_like(x)\n",
        "  \n",
        "  for idx in range(x.size):\n",
        "    tmp_val = x[idx]\n",
        "    #f(x+h)の計算\n",
        "    x[idx] = tmp_val + h\n",
        "    fxh1 = f(x)\n",
        "    \n",
        "    #f(x-h)の計算\n",
        "    x[idx] = tmp_val - h\n",
        "    fxh2 = f(x)\n",
        "    \n",
        "    grad[idx] = (fxh1 -fxh2)/(2*h)\n",
        "    x[idx] = tmp_val\n",
        "    \n",
        "  return grad\n",
        "    "
      ],
      "execution_count": 0,
      "outputs": []
    },
    {
      "cell_type": "code",
      "metadata": {
        "id": "L3R9QRC2ncjV",
        "colab_type": "code",
        "colab": {
          "base_uri": "https://localhost:8080/",
          "height": 34
        },
        "outputId": "8638f1f1-d3a2-41f0-ee5c-3eb5c97ce459"
      },
      "source": [
        "numerical_gradient(function_2,np.array([3.0,4.0]))\n"
      ],
      "execution_count": 40,
      "outputs": [
        {
          "output_type": "execute_result",
          "data": {
            "text/plain": [
              "array([6., 8.])"
            ]
          },
          "metadata": {
            "tags": []
          },
          "execution_count": 40
        }
      ]
    },
    {
      "cell_type": "code",
      "metadata": {
        "id": "crezNX-4ocnB",
        "colab_type": "code",
        "colab": {
          "base_uri": "https://localhost:8080/",
          "height": 34
        },
        "outputId": "b68df451-ed34-447c-c3dc-4e085d56602f"
      },
      "source": [
        "numerical_gradient(function_2,np.array([0.0,2.0]))"
      ],
      "execution_count": 41,
      "outputs": [
        {
          "output_type": "execute_result",
          "data": {
            "text/plain": [
              "array([0., 4.])"
            ]
          },
          "metadata": {
            "tags": []
          },
          "execution_count": 41
        }
      ]
    },
    {
      "cell_type": "code",
      "metadata": {
        "id": "tyZAbk17ojOo",
        "colab_type": "code",
        "colab": {
          "base_uri": "https://localhost:8080/",
          "height": 34
        },
        "outputId": "2c80978e-f2d9-4144-9589-6eb8f260d2f4"
      },
      "source": [
        "numerical_gradient(function_2,np.array([3.0,2.0]))"
      ],
      "execution_count": 42,
      "outputs": [
        {
          "output_type": "execute_result",
          "data": {
            "text/plain": [
              "array([6., 4.])"
            ]
          },
          "metadata": {
            "tags": []
          },
          "execution_count": 42
        }
      ]
    },
    {
      "cell_type": "code",
      "metadata": {
        "id": "0HBjJgU4opW9",
        "colab_type": "code",
        "colab": {}
      },
      "source": [
        "#@title 4.4.1 勾配法"
      ],
      "execution_count": 0,
      "outputs": []
    },
    {
      "cell_type": "code",
      "metadata": {
        "id": "SdH9R4lPoyBu",
        "colab_type": "code",
        "colab": {}
      },
      "source": [
        "def gradient_descent(f,init_x,lr=0.01,step_num=100):\n",
        "  x = init_x\n",
        "  \n",
        "  for i in range(step_num):\n",
        "    grad = numerical_gradient(f,x)\n",
        "    x -= lr * grad\n",
        "  \n",
        "  return x"
      ],
      "execution_count": 0,
      "outputs": []
    },
    {
      "cell_type": "code",
      "metadata": {
        "id": "EmUcYrIypK6U",
        "colab_type": "code",
        "colab": {
          "base_uri": "https://localhost:8080/",
          "height": 34
        },
        "outputId": "bbd4bcdb-96f8-4cee-d6c3-06762035fbd2"
      },
      "source": [
        "def function_2(x):\n",
        "  return x[0]**2 + x[1]**2\n",
        "\n",
        "init_x = np.array([03.0,4.0])\n",
        "gradient_descent(function_2,init_x=init_x, lr =0.1,step_num=100)"
      ],
      "execution_count": 46,
      "outputs": [
        {
          "output_type": "execute_result",
          "data": {
            "text/plain": [
              "array([6.11110793e-10, 8.14814391e-10])"
            ]
          },
          "metadata": {
            "tags": []
          },
          "execution_count": 46
        }
      ]
    },
    {
      "cell_type": "code",
      "metadata": {
        "id": "kcNckqvLp_-W",
        "colab_type": "code",
        "colab": {
          "base_uri": "https://localhost:8080/",
          "height": 34
        },
        "outputId": "f77a2e3e-7dcd-43ae-9af0-867c3ce3248b"
      },
      "source": [
        "init_x = np.array([-3.0,4.0])\n",
        "gradient_descent(function_2,init_x=init_x,lr=10.0,step_num=100)"
      ],
      "execution_count": 47,
      "outputs": [
        {
          "output_type": "execute_result",
          "data": {
            "text/plain": [
              "array([-2.58983747e+13, -1.29524862e+12])"
            ]
          },
          "metadata": {
            "tags": []
          },
          "execution_count": 47
        }
      ]
    },
    {
      "cell_type": "code",
      "metadata": {
        "id": "LDZ3-md7qQdN",
        "colab_type": "code",
        "colab": {
          "base_uri": "https://localhost:8080/",
          "height": 34
        },
        "outputId": "01503a61-0c5d-48a6-c14e-a9b1bdad4d03"
      },
      "source": [
        "init_x = np.array([-3.0,4.0])\n",
        "gradient_descent(function_2,init_x=init_x,lr=1e-10,step_num=100)"
      ],
      "execution_count": 48,
      "outputs": [
        {
          "output_type": "execute_result",
          "data": {
            "text/plain": [
              "array([-2.99999994,  3.99999992])"
            ]
          },
          "metadata": {
            "tags": []
          },
          "execution_count": 48
        }
      ]
    },
    {
      "cell_type": "code",
      "metadata": {
        "id": "az5D1DMQqZf2",
        "colab_type": "code",
        "colab": {}
      },
      "source": [
        "#@title 4.4.2 ニューラルネットワークに対する勾配"
      ],
      "execution_count": 0,
      "outputs": []
    },
    {
      "cell_type": "code",
      "metadata": {
        "id": "UYAHKLGNqdYO",
        "colab_type": "code",
        "colab": {}
      },
      "source": [
        "import sys,os\n",
        "sys.path.append(\"./deep-learning-from-scratch\")"
      ],
      "execution_count": 0,
      "outputs": []
    },
    {
      "cell_type": "code",
      "metadata": {
        "id": "znWCfHaoqsPu",
        "colab_type": "code",
        "colab": {}
      },
      "source": [
        "import numpy as np\n",
        "from common.functions import softmax, cross_entropy_error\n",
        "from common.gradient import numerical_gradient"
      ],
      "execution_count": 0,
      "outputs": []
    },
    {
      "cell_type": "code",
      "metadata": {
        "id": "HIAsxgN2q43u",
        "colab_type": "code",
        "colab": {}
      },
      "source": [
        "class simpleNet:\n",
        "  def __init__(self):\n",
        "    self.W = np.random.randn(2,3)\n",
        "    \n",
        "  def predict(self,x):\n",
        "    return np.dot(x,self.W)\n",
        "  \n",
        "  def loss(self,x,t):\n",
        "    z = self.predict(x)\n",
        "    y = softmax(z)\n",
        "    loss = cross_entropy_error(y,t)\n",
        "    \n",
        "    return loss"
      ],
      "execution_count": 0,
      "outputs": []
    },
    {
      "cell_type": "code",
      "metadata": {
        "id": "izfaRlJ-rYD6",
        "colab_type": "code",
        "colab": {
          "base_uri": "https://localhost:8080/",
          "height": 52
        },
        "outputId": "a004ba2e-fb46-4ad8-e05e-ba27eaab1c13"
      },
      "source": [
        "net = simpleNet()\n",
        "print(net.W)"
      ],
      "execution_count": 61,
      "outputs": [
        {
          "output_type": "stream",
          "text": [
            "[[ 1.56802046  0.823818    1.5538903 ]\n",
            " [ 0.0362426  -0.62183866  0.5226513 ]]\n"
          ],
          "name": "stdout"
        }
      ]
    },
    {
      "cell_type": "code",
      "metadata": {
        "id": "FAIDVe7Yre26",
        "colab_type": "code",
        "colab": {}
      },
      "source": [
        "x = np.array([0.6,0.9])"
      ],
      "execution_count": 0,
      "outputs": []
    },
    {
      "cell_type": "code",
      "metadata": {
        "id": "M95bRsSqrjAd",
        "colab_type": "code",
        "colab": {}
      },
      "source": [
        "p = net.predict(x)"
      ],
      "execution_count": 0,
      "outputs": []
    },
    {
      "cell_type": "code",
      "metadata": {
        "id": "3b8k9Bo6rmhk",
        "colab_type": "code",
        "colab": {
          "base_uri": "https://localhost:8080/",
          "height": 34
        },
        "outputId": "154cecf3-20df-42d7-c467-e40d2f9a618b"
      },
      "source": [
        "print(p)"
      ],
      "execution_count": 64,
      "outputs": [
        {
          "output_type": "stream",
          "text": [
            "[ 0.97343061 -0.065364    1.40272036]\n"
          ],
          "name": "stdout"
        }
      ]
    },
    {
      "cell_type": "code",
      "metadata": {
        "id": "KxGafxq6r0ZP",
        "colab_type": "code",
        "colab": {}
      },
      "source": [
        "t = np.array([0,0,1])"
      ],
      "execution_count": 0,
      "outputs": []
    },
    {
      "cell_type": "code",
      "metadata": {
        "id": "WcjoEyiBr4R5",
        "colab_type": "code",
        "colab": {
          "base_uri": "https://localhost:8080/",
          "height": 34
        },
        "outputId": "39795306-2e81-402f-9536-e066e176f564"
      },
      "source": [
        "net.loss(x,t)"
      ],
      "execution_count": 66,
      "outputs": [
        {
          "output_type": "execute_result",
          "data": {
            "text/plain": [
              "0.6319828509520187"
            ]
          },
          "metadata": {
            "tags": []
          },
          "execution_count": 66
        }
      ]
    },
    {
      "cell_type": "code",
      "metadata": {
        "id": "_HUrd1DdsHNj",
        "colab_type": "code",
        "colab": {}
      },
      "source": [
        "def f(W):\n",
        "  return net.loss(x,t)"
      ],
      "execution_count": 0,
      "outputs": []
    },
    {
      "cell_type": "code",
      "metadata": {
        "id": "fISe8UirsLaE",
        "colab_type": "code",
        "colab": {}
      },
      "source": [
        "dW = numerical_gradient(f,net.W)"
      ],
      "execution_count": 0,
      "outputs": []
    },
    {
      "cell_type": "code",
      "metadata": {
        "id": "T8RzJMJgsQbC",
        "colab_type": "code",
        "colab": {
          "base_uri": "https://localhost:8080/",
          "height": 52
        },
        "outputId": "0735f3aa-6dd7-4f5b-d667-d3d4fbbf3717"
      },
      "source": [
        "print(dW)"
      ],
      "execution_count": 69,
      "outputs": [
        {
          "output_type": "stream",
          "text": [
            "[[ 0.20760904  0.07346889 -0.28107793]\n",
            " [ 0.31141356  0.11020334 -0.42161689]]\n"
          ],
          "name": "stdout"
        }
      ]
    },
    {
      "cell_type": "code",
      "metadata": {
        "id": "LcAi2i_Ssf3c",
        "colab_type": "code",
        "colab": {}
      },
      "source": [
        "f = lambda w: net.loss(x,t)\n",
        "dW = numerical_gradient(f,net.W)"
      ],
      "execution_count": 0,
      "outputs": []
    },
    {
      "cell_type": "code",
      "metadata": {
        "id": "3BN6tQd6tJU5",
        "colab_type": "code",
        "colab": {}
      },
      "source": [
        "#@title 4.5.1 ２層ニューラルネットワークのクラス"
      ],
      "execution_count": 0,
      "outputs": []
    },
    {
      "cell_type": "code",
      "metadata": {
        "id": "vvWJBJWFtNx5",
        "colab_type": "code",
        "colab": {}
      },
      "source": [
        "import sys,os \n",
        "sys.path.append(\"./deep-learning-from-scratch\")\n",
        "from common.functions import *\n",
        "from common.gradient import numerical_gradient\n",
        "\n",
        "class TwoLayerNet:\n",
        "  def __init__(self, input_size , hidden_size ,output_size, \n",
        "              weight_init_std=0.01):\n",
        "    #重みの初期化\n",
        "    self.params = {}\n",
        "    self.params['W1'] = weight_init_std * \\\n",
        "                        np.random.randn(input_size , hidden_size)\n",
        "    self.params['b1'] = np.zeros(hidden_size)\n",
        "    self.params['W2'] = weight_init_std * \\\n",
        "                        np.random.randn(hidden_size , output_size)\n",
        "    self.params['b2'] = np.zeros(output_size)\n",
        "    \n",
        "  def predict(self,x):\n",
        "    W1,W2 = self.params['W1'],self.params['W2']\n",
        "    b1,b2 = self.params['b1'],self.params['b2']\n",
        "    \n",
        "    a1 = np.dot(x,W1)+b1\n",
        "    z1 = sigmoid(a1)\n",
        "    a2 = np.dot(z1,W2 ) + b2\n",
        "    y = softmax(a2)\n",
        "    \n",
        "  def loss(self,x,t):\n",
        "    y = self.predict(X)\n",
        "    return cross_entropy_error(y,t)\n",
        "  \n",
        "  def accuracy(self,x,t):\n",
        "    y = self.predict(x)\n",
        "    y = np.argmax(y,axis =1)\n",
        "    t = np.argmax(t,axis=1)\n",
        "    \n",
        "    \n",
        "    accuracy = np.sum(y==t)/float(x.shape[0])\n",
        "    return accuracy\n",
        "  \n",
        "  def numerical_gradient(self,x,t):\n",
        "    loss_W = lambda W: self.loss(x,t)\n",
        "    \n",
        "    grads = {}\n",
        "    grads['W1'] = numerical_gradient(loss_W,self.params['W1'])\n",
        "    grads['b1'] = numerical_gradient(loss_W,self.params['b1'])\n",
        "    grads['W2'] = numerical_gradient(loss_W,self.params['W2'])\n",
        "    grads['b2'] = numerical_gradient(loss_W,self.params['b2'])\n",
        "    \n",
        "    return grads"
      ],
      "execution_count": 0,
      "outputs": []
    },
    {
      "cell_type": "code",
      "metadata": {
        "id": "CxPeXt9rvvBg",
        "colab_type": "code",
        "colab": {
          "base_uri": "https://localhost:8080/",
          "height": 34
        },
        "outputId": "5a1b0c4e-bc5d-4f11-eab8-4d1ad799c94b"
      },
      "source": [
        "net  = TwoLayerNet(input_size=784,hidden_size=100,output_size=10)\n",
        "net.params['W1'].shape"
      ],
      "execution_count": 73,
      "outputs": [
        {
          "output_type": "execute_result",
          "data": {
            "text/plain": [
              "(784, 100)"
            ]
          },
          "metadata": {
            "tags": []
          },
          "execution_count": 73
        }
      ]
    },
    {
      "cell_type": "code",
      "metadata": {
        "id": "zSnWUfgNv7sp",
        "colab_type": "code",
        "colab": {
          "base_uri": "https://localhost:8080/",
          "height": 34
        },
        "outputId": "f1755fbe-ca9d-49b7-9c1c-cfda7383a1af"
      },
      "source": [
        "net.params['b1'].shape"
      ],
      "execution_count": 74,
      "outputs": [
        {
          "output_type": "execute_result",
          "data": {
            "text/plain": [
              "(100,)"
            ]
          },
          "metadata": {
            "tags": []
          },
          "execution_count": 74
        }
      ]
    },
    {
      "cell_type": "code",
      "metadata": {
        "id": "tnwTneGwv9-h",
        "colab_type": "code",
        "colab": {
          "base_uri": "https://localhost:8080/",
          "height": 34
        },
        "outputId": "13ed1f30-32d9-477b-c6ea-7686bf3cf8d6"
      },
      "source": [
        "net.params['W2'].shape"
      ],
      "execution_count": 75,
      "outputs": [
        {
          "output_type": "execute_result",
          "data": {
            "text/plain": [
              "(100, 10)"
            ]
          },
          "metadata": {
            "tags": []
          },
          "execution_count": 75
        }
      ]
    },
    {
      "cell_type": "code",
      "metadata": {
        "id": "D4FjTikNwAWU",
        "colab_type": "code",
        "colab": {
          "base_uri": "https://localhost:8080/",
          "height": 34
        },
        "outputId": "60869e05-d079-45e2-e4e2-f092e81a3d78"
      },
      "source": [
        "net.params['b2'].shape"
      ],
      "execution_count": 76,
      "outputs": [
        {
          "output_type": "execute_result",
          "data": {
            "text/plain": [
              "(10,)"
            ]
          },
          "metadata": {
            "tags": []
          },
          "execution_count": 76
        }
      ]
    },
    {
      "cell_type": "code",
      "metadata": {
        "id": "U3xeApr9vd5c",
        "colab_type": "code",
        "colab": {}
      },
      "source": [
        ""
      ],
      "execution_count": 0,
      "outputs": []
    }
  ]
}